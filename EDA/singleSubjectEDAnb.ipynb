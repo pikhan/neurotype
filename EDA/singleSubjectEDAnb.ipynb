{
 "cells": [
  {
   "cell_type": "code",
   "id": "initial_id",
   "metadata": {
    "collapsed": true
   },
   "source": [
    "import nibabel as nib\n",
    "import pandas as pd\n",
    "import matplotlib.pyplot as plt\n",
    "import numpy as np\n",
    "import os\n",
    "from matplotlib import animation\n",
    "from IPython.display import HTML\n",
    "from scipy.stats import zscore"
   ],
   "outputs": [],
   "execution_count": null
  },
  {
   "metadata": {},
   "cell_type": "code",
   "source": [
    "# === Paths ===\n",
    "subject_id = \"100307\"\n",
    "base_path = os.path.expanduser(f\"~/hcp_data/subjects/{subject_id}\")\n",
    "rfmri_path = os.path.join(base_path, \"rfMRI\")\n",
    "t1w_path = os.path.join(base_path, \"T1w\", \"T1w_acpc_dc_restore.nii.gz\")\n",
    "behavioral_csv = os.path.expanduser(\"~/hcp_data/metadata/behavioral.csv\")"
   ],
   "id": "764da3d323eda38d",
   "outputs": [],
   "execution_count": null
  },
  {
   "metadata": {},
   "cell_type": "code",
   "source": [
    "# === Load behavioral data ===\n",
    "behavior_df = pd.read_csv(behavioral_csv)\n",
    "neo_cols = [\"NEOFAC_O\", \"NEOFAC_C\", \"NEOFAC_E\", \"NEOFAC_A\", \"NEOFAC_N\"]\n",
    "personality = behavior_df[behavior_df[\"Subject\"] == int(subject_id)][neo_cols]\n",
    "print(\"\\nNEO-FFI Personality Scores:\")\n",
    "print(personality.head())"
   ],
   "id": "f7d3f4d1dc3a6e14",
   "outputs": [],
   "execution_count": null
  },
  {
   "metadata": {},
   "cell_type": "code",
   "source": [
    "# === Load T1w structural MRI ===\n",
    "t1w_img = nib.load(t1w_path)\n",
    "t1w_data = t1w_img.get_fdata()\n",
    "print(\"\\nT1w shape:\", t1w_data.shape)"
   ],
   "id": "5cda0a42abf7a343",
   "outputs": [],
   "execution_count": null
  },
  {
   "metadata": {},
   "cell_type": "code",
   "source": [
    "# === Show central anatomical slices ===\n",
    "fig, axs = plt.subplots(1, 3, figsize=(12, 4))\n",
    "axs[0].imshow(np.rot90(t1w_data[t1w_data.shape[0] // 2, :, :]), cmap=\"gray\")\n",
    "axs[0].set_title(\"Sagittal\")\n",
    "axs[1].imshow(np.rot90(t1w_data[:, t1w_data.shape[1] // 2, :]), cmap=\"gray\")\n",
    "axs[1].set_title(\"Coronal\")\n",
    "axs[2].imshow(np.rot90(t1w_data[:, :, t1w_data.shape[2] // 2]), cmap=\"gray\")\n",
    "axs[2].set_title(\"Axial\")\n",
    "for ax in axs:\n",
    "    ax.axis(\"off\")\n",
    "plt.suptitle(\"T1w Structural MRI\")\n",
    "plt.show()"
   ],
   "id": "f56e16609a2535a3",
   "outputs": [],
   "execution_count": null
  },
  {
   "metadata": {},
   "cell_type": "code",
   "source": [
    "# === Load one rs-fMRI scan ===\n",
    "run_name = \"REST1_LR\"\n",
    "rfmri_data = nib.load(os.path.join(rfmri_path, f\"rfMRI_{run_name}.nii.gz\")).dataobj[...,:600]\n",
    "#rfmri_data = rfmri_img.get_fdata() not loading whole thing just first 100 time points\n",
    "print(f\"\\nrs-fMRI shape ({run_name}):\", rfmri_data.shape)"
   ],
   "id": "51d2a3df12459def",
   "outputs": [],
   "execution_count": null
  },
  {
   "metadata": {},
   "cell_type": "code",
   "source": [
    "# === Load T1w structural MRI ===\n",
    "t1w_img = nib.load(t1w_path)\n",
    "t1w_data = t1w_img.get_fdata()\n",
    "print(\"\\nT1w shape:\", t1w_data.shape)"
   ],
   "id": "c0d893069a35b97a",
   "outputs": [],
   "execution_count": null
  },
  {
   "metadata": {},
   "cell_type": "code",
   "source": [
    "#Pick a slice in Z\n",
    "z_idx = 45\n",
    "\n",
    "# Set up the figure\n",
    "fig, ax = plt.subplots()\n",
    "frame = np.rot90(rfmri_data[:, :, z_idx, 0])\n",
    "im = ax.imshow(frame, cmap='gray', animated=True)\n",
    "ax.axis('off')\n",
    "\n",
    "# Animation update function\n",
    "def update(frame_idx):\n",
    "    frame = np.rot90(rfmri_data[:, :, z_idx, frame_idx])\n",
    "    im.set_array(frame)\n",
    "    ax.set_title(f\"Time {frame_idx}\")\n",
    "    return [im]\n",
    "\n",
    "# Create animation object\n",
    "anim = animation.FuncAnimation(fig, update, rfmri_data.shape[3], interval=60, blit=False)\n",
    "\n",
    "# Display in Jupyter\n",
    "HTML(anim.to_jshtml())"
   ],
   "id": "ddf094106d94500f",
   "outputs": [],
   "execution_count": null
  },
  {
   "metadata": {},
   "cell_type": "code",
   "source": [
    "std_volume = np.std(rfmri_data, axis=3)\n",
    "\n",
    "# Choose slice range to animate\n",
    "z_start = 30\n",
    "z_end = 60\n",
    "slice_range = range(z_start, z_end)\n",
    "\n",
    "# Set up figure\n",
    "fig, ax = plt.subplots(figsize=(6, 6))\n",
    "img = ax.imshow(np.rot90(std_volume[:, :, z_start]), cmap='hot', vmin=0, vmax=np.percentile(std_volume, 99))\n",
    "ax.set_title(f\"Temporal STD - Slice z={z_start}\")\n",
    "ax.axis(\"off\")\n",
    "\n",
    "# Define update function\n",
    "def update(frame):\n",
    "    z = slice_range[frame]\n",
    "    img.set_array(np.rot90(std_volume[:, :, z]))\n",
    "    ax.set_title(f\"Temporal STD - Slice z={z}\")\n",
    "    return [img]\n",
    "\n",
    "# Create animation\n",
    "anim = animation.FuncAnimation(fig, update, frames=len(slice_range), interval=120, blit=False)\n",
    "\n",
    "# Display animation inline\n",
    "HTML(anim.to_jshtml())"
   ],
   "id": "4fca0a206330ab35",
   "outputs": [],
   "execution_count": null
  },
  {
   "metadata": {},
   "cell_type": "code",
   "source": [
    "# === Compute basic functional connectivity matrix ===\n",
    "# Step 1: average over all voxels within a 10x10x10 cube at center (for simplicity)\n",
    "cube = rfmri_data[\n",
    "    rfmri_data.shape[0] // 2 - 5 : rfmri_data.shape[0] // 2 + 5,\n",
    "    rfmri_data.shape[1] // 2 - 5 : rfmri_data.shape[1] // 2 + 5,\n",
    "    rfmri_data.shape[2] // 2 - 5 : rfmri_data.shape[2] // 2 + 5,\n",
    "    :\n",
    "]\n",
    "voxels = cube.reshape(-1, cube.shape[-1])  # shape = (n_voxels, time)\n",
    "voxels = zscore(voxels, axis=1)  # z-score each voxel time series\n",
    "fc_matrix = np.corrcoef(voxels)  # correlation matrix"
   ],
   "id": "aaf9f9cf2bf015c8",
   "outputs": [],
   "execution_count": null
  },
  {
   "metadata": {},
   "cell_type": "code",
   "source": [
    "# Step 2: Show FC matrix\n",
    "plt.imshow(fc_matrix, cmap=\"coolwarm\", vmin=-1, vmax=1)\n",
    "plt.colorbar(label=\"Correlation\")\n",
    "plt.title(\"Functional Connectivity Matrix\\n(100 voxels in center cube)\")\n",
    "plt.show()"
   ],
   "id": "623d0aa989ce89b2",
   "outputs": [],
   "execution_count": null
  }
 ],
 "metadata": {
  "kernelspec": {
   "display_name": "Python 3",
   "language": "python",
   "name": "python3"
  },
  "language_info": {
   "codemirror_mode": {
    "name": "ipython",
    "version": 2
   },
   "file_extension": ".py",
   "mimetype": "text/x-python",
   "name": "python",
   "nbconvert_exporter": "python",
   "pygments_lexer": "ipython2",
   "version": "2.7.6"
  }
 },
 "nbformat": 4,
 "nbformat_minor": 5
}
